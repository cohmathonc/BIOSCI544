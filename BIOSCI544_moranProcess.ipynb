{
  "nbformat": 4,
  "nbformat_minor": 0,
  "metadata": {
    "colab": {
      "name": "moranProcess.ipynb",
      "provenance": [],
      "collapsed_sections": []
    },
    "kernelspec": {
      "name": "python3",
      "display_name": "Python 3"
    },
    "widgets": {
      "application/vnd.jupyter.widget-state+json": {
        "9c210f513a9542f1af8f4e6156ebc9b2": {
          "model_module": "@jupyter-widgets/controls",
          "model_name": "VBoxModel",
          "state": {
            "_view_name": "VBoxView",
            "_dom_classes": [
              "widget-interact"
            ],
            "_model_name": "VBoxModel",
            "_view_module": "@jupyter-widgets/controls",
            "_model_module_version": "1.5.0",
            "_view_count": null,
            "_view_module_version": "1.5.0",
            "box_style": "",
            "layout": "IPY_MODEL_7db5f1bc07e447c0adfa2ea4adefc38e",
            "_model_module": "@jupyter-widgets/controls",
            "children": [
              "IPY_MODEL_7d013d47fb8748cea79c7f5a6504b93a",
              "IPY_MODEL_329938d679ad492ca2cfd6bbe1282d3b",
              "IPY_MODEL_18b41b46f22d449b9c4cdb34f7e9e58a"
            ]
          }
        },
        "7db5f1bc07e447c0adfa2ea4adefc38e": {
          "model_module": "@jupyter-widgets/base",
          "model_name": "LayoutModel",
          "state": {
            "_view_name": "LayoutView",
            "grid_template_rows": null,
            "right": null,
            "justify_content": null,
            "_view_module": "@jupyter-widgets/base",
            "overflow": null,
            "_model_module_version": "1.2.0",
            "_view_count": null,
            "flex_flow": null,
            "width": null,
            "min_width": null,
            "border": null,
            "align_items": null,
            "bottom": null,
            "_model_module": "@jupyter-widgets/base",
            "top": null,
            "grid_column": null,
            "overflow_y": null,
            "overflow_x": null,
            "grid_auto_flow": null,
            "grid_area": null,
            "grid_template_columns": null,
            "flex": null,
            "_model_name": "LayoutModel",
            "justify_items": null,
            "grid_row": null,
            "max_height": null,
            "align_content": null,
            "visibility": null,
            "align_self": null,
            "height": null,
            "min_height": null,
            "padding": null,
            "grid_auto_rows": null,
            "grid_gap": null,
            "max_width": null,
            "order": null,
            "_view_module_version": "1.2.0",
            "grid_template_areas": null,
            "object_position": null,
            "object_fit": null,
            "grid_auto_columns": null,
            "margin": null,
            "display": null,
            "left": null
          }
        },
        "7d013d47fb8748cea79c7f5a6504b93a": {
          "model_module": "@jupyter-widgets/controls",
          "model_name": "IntSliderModel",
          "state": {
            "_view_name": "IntSliderView",
            "style": "IPY_MODEL_91fffa63f4e249d68f72e145928cde5f",
            "_dom_classes": [],
            "description": "nstep",
            "step": 1,
            "_model_name": "IntSliderModel",
            "orientation": "horizontal",
            "max": 100,
            "_view_module": "@jupyter-widgets/controls",
            "_model_module_version": "1.5.0",
            "value": 35,
            "_view_count": null,
            "disabled": false,
            "_view_module_version": "1.5.0",
            "min": 1,
            "continuous_update": true,
            "readout_format": "d",
            "description_tooltip": null,
            "readout": true,
            "_model_module": "@jupyter-widgets/controls",
            "layout": "IPY_MODEL_798d13d7e8d441c4945d7c5afb962abe"
          }
        },
        "329938d679ad492ca2cfd6bbe1282d3b": {
          "model_module": "@jupyter-widgets/controls",
          "model_name": "ButtonModel",
          "state": {
            "_view_name": "ButtonView",
            "style": "IPY_MODEL_f7d96bc67a63441b94f207ebecfeb960",
            "_dom_classes": [],
            "description": "Run Interact",
            "_model_name": "ButtonModel",
            "button_style": "",
            "_view_module": "@jupyter-widgets/controls",
            "_model_module_version": "1.5.0",
            "tooltip": "",
            "_view_count": null,
            "disabled": false,
            "_view_module_version": "1.5.0",
            "layout": "IPY_MODEL_6e562498fdcd4364a9a09cf78a0be56b",
            "_model_module": "@jupyter-widgets/controls",
            "icon": ""
          }
        },
        "18b41b46f22d449b9c4cdb34f7e9e58a": {
          "model_module": "@jupyter-widgets/output",
          "model_name": "OutputModel",
          "state": {
            "_view_name": "OutputView",
            "msg_id": "",
            "_dom_classes": [],
            "_model_name": "OutputModel",
            "outputs": [
              {
                "output_type": "display_data",
                "metadata": {
                  "tags": []
                },
                "image/png": "iVBORw0KGgoAAAANSUhEUgAAAlIAAAI/CAYAAAC8tTf3AAAABHNCSVQICAgIfAhkiAAAAAlwSFlz\nAAALEgAACxIB0t1+/AAAADh0RVh0U29mdHdhcmUAbWF0cGxvdGxpYiB2ZXJzaW9uMy4xLjMsIGh0\ndHA6Ly9tYXRwbG90bGliLm9yZy+AADFEAAAgAElEQVR4nO3df7Cld10n+Pcn3fnVCRIYGjU/m6lu\nR5OsCjaMFuCIZNiOayW7MmNBwY4GKr2Ow6wisw6K4gw/qsZhK07tDuh21qg7kxVZgTHlkESCWQNb\ngnRAMAli97KJJDCmlQRJmvzoznf/uDeku3Nv33ufe+75nufc16vqVJ/zPN/znPfpOvfc9/0+z3lO\ntdYCAMDandI7AADAWClSAAADKVIAAAMpUgAAAylSAAADKVIAAANt7fGgz3nOc9qOHTt6PDTQye23\n3/7XrbXtvXOsl/cv2HxO9v7VpUjt2LEj+/fv7/HQQCdVdU/vDJPg/Qs2n5O9f9m1BwAwkCIFADCQ\nIgUAMJAiBQAwkCIFADDQuotUVZ1RVX9SVZ+pqjur6l9PIhgAwKybxOkPHk3yg621h6rq1CQfq6ob\nW2sfn8C2AQBm1rqLVGutJXlo8eapi5e23u0CAMy6iRwjVVVbqupPk9yf5MOttU9MYrsAALNsIkWq\ntXa0tfbdSc5P8qKquvTEMVW1t6r2V9X+Q4cOTeJhAQC6muin9lprDya5NcmeJdbta63tbq3t3r59\n9F+3BQAwkU/tba+qcxavn5nkHyb58/VuFwBg1k3iU3vfmuS3qmpLForZ+1prvz+B7QIAzLRJfGrv\ns0meP4EsAACj4szmAAADKVIAAAMpUgAAAylSAAADKVIAAAMpUsDcqqrrqur+qrpjmfVVVf9LVR2s\nqs9W1QumnREYN0UKmGe/mSW+aeEYlyfZtXjZm+RXJ/XA27YlVU9dtm0btjxJnvWs49c961kLy887\n7/jl5523sPySS45ffsklC8svu+z45ZddNqlnC5vXJE7ICTCTWmu3VdWOkwy5Msn/0VprST5eVedU\n1be21r68nsfdti35+tePX/b1ry+UlxOdbPm2bcnppycPPnj8ugcfXPo+X/pSsmVL8sQTxy+/666l\nM33kIwtl6pZbVn5OwNLGOSO1Zcvxf1YBDHNeki8ec/vexWXrcmJhWc92TixRKzmxRB27raV85CNr\n2z5wvPEVqaqnv1MoU8AGqqq9VbW/qvYfOnSodxxghoyrSJ1xxvLrlClg7e5LcsExt89fXHac1tq+\n1tru1tru7du3Ty0cMPvGVaQeffTk66+9djo5gHlxQ5J/svjpve9N8tX1Hh+VJGeeuf5gT27nnHPW\ndp9TlnlXXy7Ty1++tu0DxxtPkVrNjNPevRufAxiNqvrtJH+c5O9V1b1V9fqq+omq+onFIR9K8oUk\nB5Ncm+QnJ/G4hw8/vbiceWbS2tqWHz6cPPDA08vUOecs3Ofcc49ffu65ydGjycUXH7/84osXtnVi\naXr5yx1oDuvlU3vA3GqtvXqF9S3JP9uIxz58eDLLk4UytZT7nrYTcsGddy69/JZbnvqb9Pu+T4mC\nSRjHjNRNN61+rGOlAFbkmHmYjHEUqcsv750AYK48/HDvBDAfxlGkAJgoRQomYz6L1Fp2BQJsQit9\nCBpYndkvUkNKkV2BACd19GjvBDAfZr9IKUUAE6dIwWTMfpECYOJa650A5oMiBQAwkCIFADCQIgUA\nMND8Fql3vKN3AgBgzs1vkXrnO3snAADm3PwWqUce6Z0AAJhz81ukAAA22GwXqYMHeycAAFjWbBep\n97yndwIAgGXNdpH6ju/onQAAYFmzXaRe9rLeCQAAljXbRWrnzt4JAACWNdtFCgBghilSAAADzW+R\neslLeicAAObc/Bapj360dwIAYM7Nb5ECANhgihQAwECKFADAQIoUAMBAs1+krrqqdwKAubFlS+8E\nMF9mv0hdd93a73PJJZPPATAHFCmYrNkvUkPccUfvBAAzaevW3glgvsxnkQJgSdu29U4A82UcRcpZ\nygEm4uyzeyeA+TKOIrWWs5TfeOPG5QAYuWc9q3cCmC/jKFJrsWdP7wQAM+vcc3sngPkyniJ14MDK\nY+z8BzipF76wdwKYL+MpUjt3rjzm4Yc3PgfAiL3sZb0TwHwZT5FKktaWX+fYKIAVff/3904A82Vc\nRSpZuky9/e2OjQIApm6cp2Y72cwUAMCUjG9GCgBgRihSAAADKVIAAAMpUgAAAylSAAADKVKc3LXX\nJlXHXwCAJIoUJ3PTTcnevU9frkwBQBJFipO5/PLl1ylTAKBIsYyzzuqdAABm3rqLVFVdUFW3VtVd\nVXVnVf3UJILR2eHDK48xKwXAJjeJr4g5kuRNrbVPVdUzktxeVR9urd01gW3Tw7XX9k4AAKOw7hmp\n1tqXW2ufWrz+tSSfS3LeerdLR0sdYL6cm27auBwAMOMmeoxUVe1I8vwkn5jkdplhJzsgHQDm3MSK\nVFWdneT9SX66tfa3S6zfW1X7q2r/oUOHJvWwAADdTKRIVdWpWShR17fWPrDUmNbavtba7tba7u3b\nt0/iYdkIz3527wQAMBqT+NReJfn1JJ9rrV2z/kh09cADa7/PwYOTzwEAIzCJGakXJ/nvk/xgVf3p\n4uWHJrBdxmLXrt4JAKCLdZ/+oLX2sSROKAQAbDrObA4AMJAiBQAwkCLFU97xjt4JAGBUFCmeokgB\nwJooUjzl0Ud7JwCAUVGkAAAGUqQAAAZSpAAABlKkAAAGUqQAAAZSpAAABlKkAAAGUqQAAAZSpAAA\nBlKkeMq2bb0TAMCoKFI85f3v750AAEZFkeIpe/b0TgAAo6JIAQAMpEgBbFL33NM7AYyfIsX6nXpq\n7wTAAB/7WO8EMH6KFOv32GO9EwADfOQjvRPA+ClSHO+ii3onAKbk7rt7J4DxU6Q4nndW2DTuv793\nAhg/RQpgk3rwwd4JYPwUKdbnwIHeCYCBDh/unQDGT5Hi6dZSjnbu3LgcwIZ65JHeCWD8FCmeTjmC\nTeHIkd4JYPwUKZa2mjLV2sbnADbM0aO9E8D4KVIsbaXde6d46cDYPfFE7wQwfn4bsryTzTj5UxYA\nFClWsFSZsksPAJIkW3sHYAQUJwBYkhkpAICBFClgblXVnqr6fFUdrKo3L7H+wqq6tao+XVWfraof\n6pETGC9FCphLVbUlybuTXJ7k4iSvrqqLTxj2C0ne11p7fpJXJXnPdFMCY6dIAfPqRUkOtta+0Fp7\nLMl7k1x5wpiW5JsWrz8zyZemmA+YAw42B+bVeUm+eMzte5P8/RPG/Kskf1BV/zzJWUkum040YF6Y\nkQI2s1cn+c3W2vlJfijJf6iqp70vVtXeqtpfVfsPHTo09ZDA7FKkgHl1X5ILjrl9/uKyY70+yfuS\npLX2x0nOSPKcEzfUWtvXWtvdWtu9ffv2DYoLjJEiBcyrTybZVVXPq6rTsnAw+Q0njPnLJC9Pkqr6\njiwUKVNOwKopUsBcaq0dSfKGJDcn+VwWPp13Z1W9raquWBz2piRXV9Vnkvx2kh9vzRlogdVzsDkw\nt1prH0ryoROWvfWY63clefG0cwHzw4wUDHXttUnVwuXSS3unAaADM1IwxCmnHP8dhHfeuVCo7BUC\n2FTMSMFavfKVyxemqulmAaArRQrW6gMf6J0AgBmhSMFaPOMZK48xKwWwaShSsBYPPdQ7AQAzRJGC\n1Tp4cPVjv/mbNy4HADNDkYLV2rVr9WPvv3/jcsA6neKdHybGjxPAJrNlS+8EMD8UKYBNZqszCMLE\nKFKwGms5PupJ9p8wo844o3cCmB/e6WE11nJ81JOc5ZwZtW1b7wQwPxQpgE3mnHN6J4D5oUgBbDLP\nfW7vBDA/FCmATea7vqt3ApgfihTAJrN7d+8EMD8UKdhIQz7tBxvsJS/pnQDmhyIFG+nyy3sngKe5\n6KLeCWB+KFKwkcxIAcw1RQoAYKCJFKmquq6q7q+qOyaxPZgpZpUAWMakZqR+M8meCW0LZssb3tA7\nAQAzaiJFqrV2W5KvTGJbAABj4RgpWMnFF/dOAMCMmlqRqqq9VbW/qvYfOnRoWg8L6/eKV/ROAMCM\nmlqRaq3ta63tbq3t3r59+7QeFtZvj8P/AFiaXXsAAANN6vQHv53kj5P8vaq6t6peP4ntwui94AW9\nEwCwgbZOYiOttVdPYjswd26/vXcCADaQXXsAAAMpUgAAAylSAAADKVIAAAMpUrAaz31u7wQAzCBF\nClbjr/5q7fd55jMnnwOAmaJIwUZ58MHeCQDYYIoUAMBAihSs1il+XAA4nt8MsFpHj65+7FVXbVwO\nAGaGIgUb4brreicAYAoUKViLH/mR3gkAmCGKFKzF+9+/8pjWNj4HADNBkYK1OnBg+XWXXDK9HAB0\np0jBWu3cufQuvtNPT+64Y/p5AOhGkYIh3v/+hV14556bnH32wvVHHumdCoAp29o7AIzafff1TgBA\nR2akAAAGUqSYnKqFy8GDvZMAwFQoUqzfjh0LBepJu3YdfxsA5pQixfrcdFNyzz1Lr3vGM6abBQCm\nTJFifS6/fPl1Dz00vRwA0IEixXDf8z0rj7GLD4A5pkgx3Kc+1TsBAHSlSLHxXvrS3gkAYEMoUgyz\nll12H/vYxuUAgI4UKQCAgRQpgE3sttt6J4BxU6SYjrPO6p0AWMIHP9g7AYybIsXanXHG2u9z+PDk\ncwDrduBA7wQwbooUa/foo70TABPypS/1TgDjpkgBbGIPPNA7AYybIgWwiX31q70TwLgpUgCbmD31\nsD6KFMAmduRI7wQwbooU07OaLzkGpuro0d4JYNwUKabHlxzDzFGkYH0UKQCAgRQp1ubgwd4JAGBm\nKFKszb/8l70TAMDMUKRYm4cf7p0AAGaGIsXanHtu7wQAMDMUKdbmR3+0dwIAmBmKFGuzZ0/vBAAw\nMxQpAICBFCmm56KLeicAgIlSpJieW27pnQAAJkqRYnp27uydAAAmSpECABhIkQIAGEiRAgAYSJFi\n7U4/vXcCAJgJihRr98gja7/P1q2TzwEAnSlSTMfjj/dOAAATp0gBAAykSAEADKRIMUxrqx/7ghds\nXA4A6EiRYuPdfnvvBMAJqnongPmgSDHcuef2TgAMtGVL7wQwHxQphrvvvpXHrGUXIDA1ihRMhiLF\n+rzxjcuvO/XU6eUA1sR5dWEyJlKkqmpPVX2+qg5W1ZsnsU1G4pprkrPPXnrdY49NNwucYDXvTVX1\no1V1V1XdWVX/57Qz9nLWWb0TwHxYd5Gqqi1J3p3k8iQXJ3l1VV283u0yIl/72vG78G680S49ulvN\ne1NV7Uryc0le3Fq7JMlPTz1oJ4oUTMYkvrfjRUkOtta+kCRV9d4kVya5awLbZkyUJ2bLat6brk7y\n7tbaA0nSWrt/6ik72b49OXiwdwoYv0ns2jsvyRePuX3v4jKAnlbz3vRtSb6tqv6fqvp4Ve2ZWrrO\nvv3beyeA+TC1g82ram9V7a+q/YcOHZrWwwKczNYku5L8QJJXJ7m2qs45cdA8vn89//m9E8B8mESR\nui/JBcfcPn9x2XFaa/taa7tba7u3b98+gYcFOKnVvDfdm+SG1trjrbX/L8lfZKFYHWce37+uuKJ3\nApgPkyhSn0yyq6qeV1WnJXlVkhsmsF2A9VjNe9N/ysJsVKrqOVnY1feFaYbs5aKLeieA+bDug81b\na0eq6g1Jbk6yJcl1rbU7150MYB2We2+qqrcl2d9au2Fx3Suq6q4kR5P8T621v+mXGhibSXxqL621\nDyX50CS2BTApS703tdbeesz1luRnFi8Aa+bM5gAAAylSAAADKVIAAAMpUgAAAylSAAADKVIAAAMp\nUgAAAylSAAADKVKwUc46K6lauJx1Vu80AGyAiZzZHDhB1fG3Dx9eWNZanzwAbAgzUjBpJ5ao1a4D\nYHQUKQCAgRQpmKTVzDiZlQKYG4oUAMBAihRMyp49GzMWgJmlSMGk3HzzxowFYGYpUgAAAylSAAAD\nKVIwCZdeOp37ADBTFCmYhDvvnM59AJgpihQAwECKFADAQIoUAMBAihQAwECKFADAQIoUAMBAihSs\n13q+N8937gGMmiIF6/VHfzT8vh/96ORyADB1ihSs1yOPDL/v4cOTywHA1ClSAAADKVIAAAMpUgAA\nAylS0FNV7wQArIMiBet17rnD73vhhZPLAcDUKVKwXr/+68Pv+2u/NrkcAEydIgXr5YScAJuWIgWw\nyd12W+8EMF6KFMAmd+utvRPAeClSAJvcXXf1TgDjpUgBbHJf/GLvBDBeihTAJnfoUO8EMF6KFONR\ntXB59rN7J4G58uCDvRPAeClSzL6bbjr+DOAPPDB7ZwQ/cGA694EN8MgjvRPAeClSzL7LL196+SyV\nqZ07p3Mf2ACPP947AYyXIsVsW6ksXXrpdHLAHDt6tHcCGC9FinG7887eCWD0FCkYTpFidq12191N\nN21sjtVqbWPGwgbzcoThFCnGb7ljqABggylSzKaDB3snGGY1B5A7yBxgbihSzKZdu9Y2flaK12pO\naeC0BwBzQ5FiPqy1eG2kkxUlJQpgrihSMGk7dyZvfOPTl7/97XbrAcyZrb0DwFy65pqFCwBzzYwU\ns+d1r+udAABWRZFi9vzGb/ROAACrokgxP8xkATBlihTzw0wWAFOmSAEADKRIAQAMpEgBAAykSAEA\nDKRIAQAMtK4iVVX/uKrurKonqmr3pEIBAIzBemek7kjyI0lum0AWAIBRWdd37bXWPpckVTWZNAAA\nI+IYKQCAgVackaqqW5J8yxKr3tJa+73VPlBV7U2yN0kuvPDCVQcEAJhVKxap1tplk3ig1tq+JPuS\nZPfu3W0S2wRguC1bkqNHe6eAcbNrD2CT2rKldwIYv/We/uC/q6p7k3xfkv9cVTdPJhYAG+2003on\ngPFb76f2PpjkgxPKAsAUnXFG8tBDvVPAuNm1x/x4+9t7J4BROfvs3glg/BQp5scv/ELvBDAqz352\n7wQwfooUs+eNb+ydADaFnTt7J4DxU6SYPddc0zsBbAoXX9w7AYyfIgWwSb3sZb0TwPgpUgCb1Pd/\nf+8EMH6KFPOhOVk+ANOnSDGbFCMARkCRAgAYSJFi/A4c6J0AgE1KkWJ2rXb3npPhANCJIsW4OXkn\nAB0pUsy2lWalnLwTgI4UKWbfcsdA+WQfAJ0pUsy+nTsXStO55y7cfvvblSgAZsLW3gFg1e67r3cC\nADiOGSkAgIEUKQCAgRQpYG5V1Z6q+nxVHayqN59k3CurqlXV7mnmA8ZPkQLmUlVtSfLuJJcnuTjJ\nq6vq4iXGPSPJTyX5xHQTAvNAkQLm1YuSHGytfaG19liS9ya5colxb0/yy0kemWY4YD4oUsC8Oi/J\nF4+5fe/ism+oqhckuaC19p+nGQyYH4oUsClV1SlJrknyplWM3VtV+6tq/6FDhzY+HDAaihQwr+5L\ncsExt89fXPakZyS5NMn/XVV3J/neJDcsdcB5a21fa213a2339u3bNzAyMDaKFDCvPplkV1U9r6pO\nS/KqJDc8ubK19tXW2nNaaztaazuSfDzJFa21/X3iAmOkSAFzqbV2JMkbktyc5HNJ3tdau7Oq3lZV\nV/RNB8wLXxEDzK3W2oeSfOiEZW9dZuwPTCMTMF/MSAEADKRIAQAMpEgBAAykSAEADKRIAQAMpEgB\nAAykSAEADKRIAQAMpEgBAAykSAEADKRIAQAMpEgBAAykSAEADKRIAQAMpEgBAAykSAEADKRIAQAM\npEgBkHvu6Z0AxkmRAiA33NA7AYyTIgVAPv3p3glgnBQpAHL33b0TwDgpUgDk/vt7J4BxUqQAyFe+\n0jsBjJMiBUAefrh3AhgnRQqAPP547wQwTooUADlypHcCGCdFCoAcPdo7AYyTIgVAnniidwIYJ0UK\nAGAgRQoAYCBFCgBgIEUKAGAgRQoAYCBFCgBgIEUKAGCgdRWpqnpXVf15VX22qj5YVedMKhjHuPTS\npGrhAgDMjPXOSH04yaWtte9M8hdJfm79kThOVXLnncff3rOnXx4A4BvWVaRaa3/QWnvyG5o+nuT8\n9UfiG5abgbr55uTgwelmAQCeZpLHSL0uyY0T3N7mdtNNJ1+/a9d0cgAAy1qxSFXVLVV1xxKXK48Z\n85YkR5Jcf5Lt7K2q/VW1/9ChQ5NJP88uv3zlMSuVLQBgQ21daUBr7bKTra+qH0/yw0le3lprJ9nO\nviT7kmT37t3LjmMNLr88Wf6/HADYYCsWqZOpqj1JfjbJP2itHZ5MJHw6DwDGYb3HSP37JM9I8uGq\n+tOq+rUJZGItXvrS3gkAYNNa14xUa23npIIw0Mc+1jsBAGxazmw+a8wwAcBoKFKzxgwTAIyGIjUP\nnAYBALpQpObBas45BQBMnCIFsImd4rcArIsfIYBNbOu6PrsNKFKz5B3v6J0A2GQUKVgfRWqW/OIv\n9k4AbDKnn947AYybIgWwiW3b1jsBjJsiBbCJnXNO7wQwbooUwCa2Y0fvBDBuihTAJrZrV+8EMG6K\nFMAm9sIX9k4A46ZIAWxiL3lJ7wQwbooUwCZ24YW9E8C4KVIAAAMpUgAAAylSAAADKVIAAAMpUrPE\nt4cCwKgoUrPkPe/pnQAAWANFapZcfXXvBADAGihSAAADKVIAAAMpUvPgwIHeCQBgU1Kk5sHOnb0T\nAMCmpEjNmquu6p0AAFglRWrWXHdd7wQAwCopUmNnBgsAulGkxs4MFgB0o0jNotZ6JwAAVkGRGjOn\nPQCArhSpWbWakuS0BwDQlSI1q1YqSXb/AUB3itQsW64s7ds33RwAwJK29g7AClpLDh5Mdu1Kzj47\n+drXeicCABYpUmOwc6ddeQAwg+zaAwAYSJECABhIkQIAGEiRAgAYSJECABhIkQIAGEiRAgAYSJEC\nABhIkQIAGEiRAuZWVe2pqs9X1cGqevMS63+mqu6qqs9W1Ueq6qIeOYHxUqSYe48fvCf3vvSHe8dg\nyqpqS5J3J7k8ycVJXl1VF58w7NNJdrfWvjPJ7yb5t9NNCYyd79pjbj1+8J5s2bUjW5Ocl6RV5dEk\nZ/jews3iRUkOtta+kCRV9d4kVya568kBrbVbjxn/8SSvnWpCYPTMSDG3tuzakUq+cUmS05M8fOq2\nfqGYpvOSfPGY2/cuLlvO65PcuKGJgLljRoq59HhVtuapApXF6y3JtiNf7xOKmVVVr02yO8k/WGb9\n3iR7k+TCCy+cYjJg1pmRYi6dWKKe9OSyI7XUWubMfUkuOOb2+YvLjlNVlyV5S5IrWmuPLrWh1tq+\n1tru1tru7du3b0hYYJwUKebO46soSVumkIPuPplkV1U9r6pOS/KqJDccO6Cqnp/kf8tCibq/Q8aZ\ncs89vRPA+ChSzJ2V9lc/WbMePu2sjY5CR621I0nekOTmJJ9L8r7W2p1V9baqumJx2LuSnJ3k/6qq\nP62qG5bZ3KbwsY/1TgDj4xgp5srhm27LmVl6t96Jznz88EbHobPW2oeSfOiEZW895vplUw81w/bv\nT17zmt4pYFwUKebKaZcveazw0zhCCp7uwIHeCWB87Npjrqz1Bf3X7/hfNyQHjNGXvtQ7AYyPIsVc\nOfacUavxzF/8HzcqCozO/Zv+cHtYO0WKTc2n9+Aphx02CGumSDE3HjrjGWsav9bZK5h3jy55Fi3g\nZBQp5sYZjz7UOwKM2pEjvRPA+ChSzA0vZlgfRQrWbl2/e6rq7VX12cUT2f1BVZ07qWDMoDPPTKqO\nv8yBr157fe8IMBOeeKJ3Ahif9f4R/67W2ne21r47ye8neetKd2CkTjsteeSRpy+foTI19JinU/+H\n1006CgCbxLqKVGvtb4+5eVaStr44zKSDB5PHH19+/UtfOr0sG+DU9ljvCACM1LrPbF5V70zyT5J8\nNcnL1p2I2bNr18nXj/wLumZnTg2AsVlxRqqqbqmqO5a4XJkkrbW3tNYuSHJ9Fr4gdLnt7K2q/VW1\n/9ChQ5N7BsyGPXt6JxhMkQJgqBVnpNbwpZ7XZ+HLQX9pme3sS7IvSXbv3m0X4Fis9hiom2/e2Bwb\nSJECYKj1fmrv2H0+Vyb58/XFAQAYj/V+au/fLO7m+2ySVyT5qQlkYqxe+creCQBgqtZ1sHlrzW/O\neXbmmWsb/4EPbEwOAJhRTgbN8pY6bxQA8A2KFJueTz4AMJQiBQAwkCLFZO3Y0TvBmpmRAmAoRYql\n/czPDLvfPfdMNscUHHEmKQAGUqRY2q/8Su8EU/NX//U/7h0BgJFSpJgbLcN201100+9MOgoAm4Qi\nxdxwrBMA06ZIMTeO9g4AwKajSDE3vr7vP65p/NBdgQDwJEWKufHMq1+z5vsoUgCshyLF3FlLOfrq\nuTs3LAcA80+RYq48scbxz77vwIbkgDEpp1KDwRQp5sqDF12yqnF26cFTtm7tnQDGS5Firvydu+9Y\n9dgjG5gDxkSRguEUKebOE1nljNOBuzc2CIzEqaf2TgDjpUgxd+5/47866fonT3tw6s6LphEHZt5Z\nZ/VOAOOlSDF3vvWaX1rxHFH3XvXT04oDM+/ss3sngPFSpJhLX1s8OeeJZapl4QzoF163eb6UGVZy\n/vm9E8B4KVLMpWde/Zo8tO1ZSZ7alffkZWvzmT041o4dvRPAeClSzK1nPPyVfP3GP/rGwedfr9Ny\nihIFT/P85/dOAOOlSLG0G2/snWAitu35/mxpLae0lm1PPNo7DsykK67onQDGS5FiaXv2DLvfj/zI\nZHMAG+4iH2CFwRQpJuv97++dAACmRpECABhIkQIAGEiRYnkveUnvBAAw0xQplvfRj65t/L59G5MD\nAGaUIsXkXH117wQAMFWKFCd3ipcIACzHb0lO7ujR1Y07cGBjcwDADFKkmIydO3snAICpU6RY2Urf\nT2c2CoBNSpFida66aunlp55qNgqATUuRYnWuu+7ppzfYuTN57LE+eQBgBihSrN7VVy/s5nvyYpfe\n/Ko6/nLGGb0TAcwkRQo4XtXTlz36aLJly/SzAMw4RQp4yp49y6974onk4MHpZQEYAUUKeMrNN598\n/a5d08kBMBKKFLDgla/snQBgdBQpYMEHPrC6cUsdQwWwSSlSAAADKVJA8rrX9U4AMEqKFJD8xm+s\nbfypp25MDoCRUaSAtTtypAdcg3UAAAnzSURBVHcCgJmgSAEADKRIAQAMpEjBZnfppb0TAIyWIgWb\n3Z13DrufE3gCKFLAQKs9gSfAHFOkAAAGUqQAAAZSpAAABlKkAAAGUqQAAAZSpAAABlKkAAAGUqQA\nAAZSpAAABlKkAAAGUqQAAAZSpAD4httu650AxmUiRaqq3lRVraqeM4ntAdDHrbf2TgDjsu4iVVUX\nJHlFkr9cfxwAerrrrt4JYFwmMSP1K0l+NkmbwLYA6OiLX+ydAMZlXUWqqq5Mcl9r7TMTygOMxb59\nvROwAb785d4JYFxWLFJVdUtV3bHE5cokP5/krat5oKraW1X7q2r/oUOH1psbmJQ3vnHY/a6+erI5\nmAkPPdQ7AYzLikWqtXZZa+3SEy9JvpDkeUk+U1V3Jzk/yaeq6luW2c6+1tru1tru7du3T/I5AOtx\nzTW9EzBDHnmkdwIYl61D79ha+7Mkz33y9mKZ2t1a++sJ5AKgg8cf750AxsV5pAD4hiNHeieAcRk8\nI3Wi1tqOSW0LmHGXXNI7ARvk6NHeCWBczEgByY03rm38HXdsTA6AkVGkgGTPnt4JAEZJkQIAGEiR\nAhYcOLC6cW08X2JQVXuq6vNVdbCq3rzE+tOr6ncW13+iqnZMPyUwZooUsGDnzt4JJqqqtiR5d5LL\nk1yc5NVVdfEJw16f5IHW2s4sfN3VL0835Wz4yZ9c/vb11yc7diSnnLLw7/XXTzMZzL6JfWoPmAMH\nDiS7di2/fkSzUUlelORga+0LSVJV701yZZJjv5b3yiT/avH67yb591VVrY3ria7HT/5k8qu/evyy\nJ2+/+MXJ3r3J4cMLt++5Z+F2krzmNdPLCLNMkQKesnNncsYZS5/e+qqrpp9nfc5LcuxX8N6b5O8v\nN6a1dqSqvprk7yTZNCcWXu4rE3/1V59esJKFUvXa1y5cYL2qll++1LotWxYuJzrttOSbvmnp8S96\n0dKP8a53JRdeuPqsy1GkgON9/evJ93xP8qlPPbVs375N/d16VbU3yd4kuXAS77wzxHmj6Gm5ud/l\nli/3en300YW3rhOdckry2c8uf59JUKSAp7v99t4JJuG+JBccc/v8xWVLjbm3qrYmeWaSvzlxQ621\nfUn2Jcnu3bvnarffli1L/3LasiU5//yF3Xknuuii5O67NzwajIKDzYF59ckku6rqeVV1WpJXJbnh\nhDE3JPmxxev/KMkfbqbjo5Knjnlaavk735ls23b88m3bFpYDC8xIAXNp8ZinNyS5OcmWJNe11u6s\nqrcl2d9auyHJryf5D1V1MMlXslC2NpX3vGfh3337FmamtmxZKFFPLk+St7wl+cu/XDie5J3vdKA5\nHKt6/PG1e/futn///qk/LtBPVd3eWtvdO8d6ef+Czedk71927QEADKRIAQAMpEgBAAykSAEADKRI\nAQAMpEgBAAykSAEADKRIAQAMpEgBAAykSAEADKRIAQAMpEgBAAykSAEADKRIAQAMpEgBAAykSAEA\nDKRIAQAMpEgBAAykSAEADKRIAQAMVK216T9o1aEk9xyz6DlJ/nrqQYYbW95kfJnl3Vg98l7UWts+\n5cecuCXev1YyttfGpHjem888P/dl37+6FKmnhaja31rb3TvHao0tbzK+zPJurLHlHbPN+n/teW8+\nm/W527UHADCQIgUAMNCsFKl9vQOs0djyJuPLLO/GGlveMdus/9ee9+azKZ/7TBwjBQAwRrMyIwUA\nMDozVaSq6p9X1Z9X1Z1V9W9751mNqnpTVbWqek7vLCdTVe9a/L/9bFV9sKrO6Z1pKVW1p6o+X1UH\nq+rNvfOspKouqKpbq+quxdftT/XOtBpVtaWqPl1Vv987y7wa22t5Parquqq6v6ruOGbZs6vqw1V1\nYPHfZ/XMuBGW+/mf9+deVWdU1Z9U1WcWn/e/Xlz+vKr6xOJr/neq6rTeWadhZopUVb0syZVJvqu1\ndkmS/7lzpBVV1QVJXpHkL3tnWYUPJ7m0tfadSf4iyc91zvM0VbUlybuTXJ7k4iSvrqqL+6Za0ZEk\nb2qtXZzke5P8sxFkTpKfSvK53iHm1Uhfy+vxm0n2nLDszUk+0lrbleQji7fnzXI///P+3B9N8oOt\nte9K8t1J9lTV9yb55SS/0lrbmeSBJK/vmHFqZqZIJfmnSf5Na+3RJGmt3d85z2r8SpKfTTLzB5q1\n1v6gtXZk8ebHk5zfM88yXpTkYGvtC621x5K8Nwvlema11r7cWvvU4vWvZaGcnNc31clV1flJ/psk\n/3vvLHNsdK/l9Wit3ZbkKycsvjLJby1e/60k/+1UQ03BSX7+5/q5twUPLd48dfHSkvxgkt9dXD53\nz3s5s1Skvi3JSxenBf+oql7YO9DJVNWVSe5rrX2md5YBXpfkxt4hlnBeki8ec/vezHgpOVZV7Ujy\n/CSf6JtkRf8uC38APNE7yBwb9Wt5Qr65tfblxev/Jck39wyz0U74+Z/75754eMCfJrk/C3s8/t8k\nDx7zB/umec1vneaDVdUtSb5liVVvWczy7CxMj74wyfuq6u+2jh8rXCHvz2dht97MOFne1trvLY55\nSxamo6+fZrZ5V1VnJ3l/kp9urf1t7zzLqaofTnJ/a+32qvqB3nnYHFprrapmfuZ+qBN//qvqG+vm\n9bm31o4m+e7F420/mOTbO0fqZqpFqrV22XLrquqfJvnAYnH6k6p6Igvf23NoWvlOtFzeqvqvkjwv\nyWcWf2DOT/KpqnpRa+2/TDHicU72/5skVfXjSX44yct7FtSTuC/JBcfcPn9x2UyrqlOz8CZ6fWvt\nA73zrODFSa6oqh9KckaSb6qq/9hae23nXPNmlK/lCfurqvrW1tqXq+pbszBzMXeW+fnfFM89SVpr\nD1bVrUm+L8k5VbV1cVZq07zmZ2nX3n9K8rIkqapvS3JaZvTLD1trf9Zae25rbUdrbUcWpjBf0LNE\nraSq9mRhd84VrbXDvfMs45NJdi1+8uO0JK9KckPnTCdVC03615N8rrV2Te88K2mt/Vxr7fzF1+2r\nkvyhErUhRvda3gA3JPmxxes/luT3OmbZECf5+Z/r515V25/85HdVnZnkH2bh+LBbk/yjxWFz97yX\nMzMn5Fx8s7kuC58AeCzJv2it/WHfVKtTVXcn2d1am8nilyRVdTDJ6Un+ZnHRx1trP9Ex0pIWZ0r+\nXZItSa5rrb2zc6STqqqXJPlokj/LU8cc/Xxr7UP9Uq3O4q69f9Fa++HeWebR2F7L61FVv53kB7Kw\nF+GvkvxSFv44fl+SC5Pck+RHW2snHpA+asv9/GfhOKm5fe5V9Z1ZOJh8SxYmZN7XWntbVf3dLHyw\n4tlJPp3ktU9+gGyezUyRAgAYm1natQcAMCqKFADAQIoUAMBAihQAwECKFADAQIoUAMBAihQAwECK\nFADAQP8/Ne/pfA3DxN4AAAAASUVORK5CYII=\n",
                "text/plain": "<Figure size 720x720 with 2 Axes>"
              }
            ],
            "_view_module": "@jupyter-widgets/output",
            "_model_module_version": "1.0.0",
            "_view_count": null,
            "_view_module_version": "1.0.0",
            "layout": "IPY_MODEL_b0f68019a8ef4b8daf1991c53503f307",
            "_model_module": "@jupyter-widgets/output"
          }
        },
        "91fffa63f4e249d68f72e145928cde5f": {
          "model_module": "@jupyter-widgets/controls",
          "model_name": "SliderStyleModel",
          "state": {
            "_view_name": "StyleView",
            "handle_color": null,
            "_model_name": "SliderStyleModel",
            "description_width": "",
            "_view_module": "@jupyter-widgets/base",
            "_model_module_version": "1.5.0",
            "_view_count": null,
            "_view_module_version": "1.2.0",
            "_model_module": "@jupyter-widgets/controls"
          }
        },
        "798d13d7e8d441c4945d7c5afb962abe": {
          "model_module": "@jupyter-widgets/base",
          "model_name": "LayoutModel",
          "state": {
            "_view_name": "LayoutView",
            "grid_template_rows": null,
            "right": null,
            "justify_content": null,
            "_view_module": "@jupyter-widgets/base",
            "overflow": null,
            "_model_module_version": "1.2.0",
            "_view_count": null,
            "flex_flow": null,
            "width": null,
            "min_width": null,
            "border": null,
            "align_items": null,
            "bottom": null,
            "_model_module": "@jupyter-widgets/base",
            "top": null,
            "grid_column": null,
            "overflow_y": null,
            "overflow_x": null,
            "grid_auto_flow": null,
            "grid_area": null,
            "grid_template_columns": null,
            "flex": null,
            "_model_name": "LayoutModel",
            "justify_items": null,
            "grid_row": null,
            "max_height": null,
            "align_content": null,
            "visibility": null,
            "align_self": null,
            "height": null,
            "min_height": null,
            "padding": null,
            "grid_auto_rows": null,
            "grid_gap": null,
            "max_width": null,
            "order": null,
            "_view_module_version": "1.2.0",
            "grid_template_areas": null,
            "object_position": null,
            "object_fit": null,
            "grid_auto_columns": null,
            "margin": null,
            "display": null,
            "left": null
          }
        },
        "f7d96bc67a63441b94f207ebecfeb960": {
          "model_module": "@jupyter-widgets/controls",
          "model_name": "ButtonStyleModel",
          "state": {
            "_view_name": "StyleView",
            "_model_name": "ButtonStyleModel",
            "_view_module": "@jupyter-widgets/base",
            "_model_module_version": "1.5.0",
            "_view_count": null,
            "button_color": null,
            "font_weight": "",
            "_view_module_version": "1.2.0",
            "_model_module": "@jupyter-widgets/controls"
          }
        },
        "6e562498fdcd4364a9a09cf78a0be56b": {
          "model_module": "@jupyter-widgets/base",
          "model_name": "LayoutModel",
          "state": {
            "_view_name": "LayoutView",
            "grid_template_rows": null,
            "right": null,
            "justify_content": null,
            "_view_module": "@jupyter-widgets/base",
            "overflow": null,
            "_model_module_version": "1.2.0",
            "_view_count": null,
            "flex_flow": null,
            "width": null,
            "min_width": null,
            "border": null,
            "align_items": null,
            "bottom": null,
            "_model_module": "@jupyter-widgets/base",
            "top": null,
            "grid_column": null,
            "overflow_y": null,
            "overflow_x": null,
            "grid_auto_flow": null,
            "grid_area": null,
            "grid_template_columns": null,
            "flex": null,
            "_model_name": "LayoutModel",
            "justify_items": null,
            "grid_row": null,
            "max_height": null,
            "align_content": null,
            "visibility": null,
            "align_self": null,
            "height": null,
            "min_height": null,
            "padding": null,
            "grid_auto_rows": null,
            "grid_gap": null,
            "max_width": null,
            "order": null,
            "_view_module_version": "1.2.0",
            "grid_template_areas": null,
            "object_position": null,
            "object_fit": null,
            "grid_auto_columns": null,
            "margin": null,
            "display": null,
            "left": null
          }
        },
        "e36584772673421cab6947ed2648125a": {
          "model_module": "@jupyter-widgets/controls",
          "model_name": "VBoxModel",
          "state": {
            "_view_name": "VBoxView",
            "_dom_classes": [
              "widget-interact"
            ],
            "_model_name": "VBoxModel",
            "_view_module": "@jupyter-widgets/controls",
            "_model_module_version": "1.5.0",
            "_view_count": null,
            "_view_module_version": "1.5.0",
            "box_style": "",
            "layout": "IPY_MODEL_11926e5aaf2748efbed34b2ce562bed6",
            "_model_module": "@jupyter-widgets/controls",
            "children": [
              "IPY_MODEL_cbd31bdf66ec46779a9513c896b741f5",
              "IPY_MODEL_f45094dc6b254551994a8ee2e7bd9c22",
              "IPY_MODEL_ae23f3c53ea14b2e8619f048ecf3f0cc"
            ]
          }
        },
        "11926e5aaf2748efbed34b2ce562bed6": {
          "model_module": "@jupyter-widgets/base",
          "model_name": "LayoutModel",
          "state": {
            "_view_name": "LayoutView",
            "grid_template_rows": null,
            "right": null,
            "justify_content": null,
            "_view_module": "@jupyter-widgets/base",
            "overflow": null,
            "_model_module_version": "1.2.0",
            "_view_count": null,
            "flex_flow": null,
            "width": null,
            "min_width": null,
            "border": null,
            "align_items": null,
            "bottom": null,
            "_model_module": "@jupyter-widgets/base",
            "top": null,
            "grid_column": null,
            "overflow_y": null,
            "overflow_x": null,
            "grid_auto_flow": null,
            "grid_area": null,
            "grid_template_columns": null,
            "flex": null,
            "_model_name": "LayoutModel",
            "justify_items": null,
            "grid_row": null,
            "max_height": null,
            "align_content": null,
            "visibility": null,
            "align_self": null,
            "height": null,
            "min_height": null,
            "padding": null,
            "grid_auto_rows": null,
            "grid_gap": null,
            "max_width": null,
            "order": null,
            "_view_module_version": "1.2.0",
            "grid_template_areas": null,
            "object_position": null,
            "object_fit": null,
            "grid_auto_columns": null,
            "margin": null,
            "display": null,
            "left": null
          }
        },
        "cbd31bdf66ec46779a9513c896b741f5": {
          "model_module": "@jupyter-widgets/controls",
          "model_name": "IntTextModel",
          "state": {
            "_view_name": "IntTextView",
            "style": "IPY_MODEL_55755fd03c6d4c65b3487ee1cbb3ba25",
            "_dom_classes": [],
            "description": "nmax",
            "_model_name": "IntTextModel",
            "_view_module": "@jupyter-widgets/controls",
            "_model_module_version": "1.5.0",
            "value": 1,
            "_view_count": null,
            "disabled": false,
            "_view_module_version": "1.5.0",
            "continuous_update": false,
            "step": 1,
            "description_tooltip": null,
            "_model_module": "@jupyter-widgets/controls",
            "layout": "IPY_MODEL_b62aa09b12a84128ae24a173c3965c98"
          }
        },
        "f45094dc6b254551994a8ee2e7bd9c22": {
          "model_module": "@jupyter-widgets/controls",
          "model_name": "ButtonModel",
          "state": {
            "_view_name": "ButtonView",
            "style": "IPY_MODEL_007bfe89bd664379a390331fd4339c44",
            "_dom_classes": [],
            "description": "Run Interact",
            "_model_name": "ButtonModel",
            "button_style": "",
            "_view_module": "@jupyter-widgets/controls",
            "_model_module_version": "1.5.0",
            "tooltip": "",
            "_view_count": null,
            "disabled": false,
            "_view_module_version": "1.5.0",
            "layout": "IPY_MODEL_6cd0c46e398e4c21af7bc5c9523a8681",
            "_model_module": "@jupyter-widgets/controls",
            "icon": ""
          }
        },
        "ae23f3c53ea14b2e8619f048ecf3f0cc": {
          "model_module": "@jupyter-widgets/output",
          "model_name": "OutputModel",
          "state": {
            "_view_name": "OutputView",
            "msg_id": "",
            "_dom_classes": [],
            "_model_name": "OutputModel",
            "outputs": [],
            "_view_module": "@jupyter-widgets/output",
            "_model_module_version": "1.0.0",
            "_view_count": null,
            "_view_module_version": "1.0.0",
            "layout": "IPY_MODEL_473f6d7f5ac84951aebcddbeb2d5d922",
            "_model_module": "@jupyter-widgets/output"
          }
        },
        "55755fd03c6d4c65b3487ee1cbb3ba25": {
          "model_module": "@jupyter-widgets/controls",
          "model_name": "DescriptionStyleModel",
          "state": {
            "_view_name": "StyleView",
            "_model_name": "DescriptionStyleModel",
            "description_width": "",
            "_view_module": "@jupyter-widgets/base",
            "_model_module_version": "1.5.0",
            "_view_count": null,
            "_view_module_version": "1.2.0",
            "_model_module": "@jupyter-widgets/controls"
          }
        },
        "b62aa09b12a84128ae24a173c3965c98": {
          "model_module": "@jupyter-widgets/base",
          "model_name": "LayoutModel",
          "state": {
            "_view_name": "LayoutView",
            "grid_template_rows": null,
            "right": null,
            "justify_content": null,
            "_view_module": "@jupyter-widgets/base",
            "overflow": null,
            "_model_module_version": "1.2.0",
            "_view_count": null,
            "flex_flow": null,
            "width": null,
            "min_width": null,
            "border": null,
            "align_items": null,
            "bottom": null,
            "_model_module": "@jupyter-widgets/base",
            "top": null,
            "grid_column": null,
            "overflow_y": null,
            "overflow_x": null,
            "grid_auto_flow": null,
            "grid_area": null,
            "grid_template_columns": null,
            "flex": null,
            "_model_name": "LayoutModel",
            "justify_items": null,
            "grid_row": null,
            "max_height": null,
            "align_content": null,
            "visibility": null,
            "align_self": null,
            "height": null,
            "min_height": null,
            "padding": null,
            "grid_auto_rows": null,
            "grid_gap": null,
            "max_width": null,
            "order": null,
            "_view_module_version": "1.2.0",
            "grid_template_areas": null,
            "object_position": null,
            "object_fit": null,
            "grid_auto_columns": null,
            "margin": null,
            "display": null,
            "left": null
          }
        },
        "007bfe89bd664379a390331fd4339c44": {
          "model_module": "@jupyter-widgets/controls",
          "model_name": "ButtonStyleModel",
          "state": {
            "_view_name": "StyleView",
            "_model_name": "ButtonStyleModel",
            "_view_module": "@jupyter-widgets/base",
            "_model_module_version": "1.5.0",
            "_view_count": null,
            "button_color": null,
            "font_weight": "",
            "_view_module_version": "1.2.0",
            "_model_module": "@jupyter-widgets/controls"
          }
        },
        "6cd0c46e398e4c21af7bc5c9523a8681": {
          "model_module": "@jupyter-widgets/base",
          "model_name": "LayoutModel",
          "state": {
            "_view_name": "LayoutView",
            "grid_template_rows": null,
            "right": null,
            "justify_content": null,
            "_view_module": "@jupyter-widgets/base",
            "overflow": null,
            "_model_module_version": "1.2.0",
            "_view_count": null,
            "flex_flow": null,
            "width": null,
            "min_width": null,
            "border": null,
            "align_items": null,
            "bottom": null,
            "_model_module": "@jupyter-widgets/base",
            "top": null,
            "grid_column": null,
            "overflow_y": null,
            "overflow_x": null,
            "grid_auto_flow": null,
            "grid_area": null,
            "grid_template_columns": null,
            "flex": null,
            "_model_name": "LayoutModel",
            "justify_items": null,
            "grid_row": null,
            "max_height": null,
            "align_content": null,
            "visibility": null,
            "align_self": null,
            "height": null,
            "min_height": null,
            "padding": null,
            "grid_auto_rows": null,
            "grid_gap": null,
            "max_width": null,
            "order": null,
            "_view_module_version": "1.2.0",
            "grid_template_areas": null,
            "object_position": null,
            "object_fit": null,
            "grid_auto_columns": null,
            "margin": null,
            "display": null,
            "left": null
          }
        }
      }
    }
  },
  "cells": [
    {
      "cell_type": "markdown",
      "metadata": {
        "id": "7mc5hDTIZNVP",
        "colab_type": "text"
      },
      "source": [
        "[![Open In Colab](https://colab.research.google.com/assets/colab-badge.svg)](https://colab.research.google.com/github/cohmathonc/BIOSCI544/blob/master/BIOSCI544_moranProcess.ipynb)"
      ]
    },
    {
      "cell_type": "code",
      "metadata": {
        "id": "0Q_jJ5u2hoGl",
        "colab_type": "code",
        "colab": {}
      },
      "source": [
        "import numpy as np\n",
        "%matplotlib inline\n",
        "import matplotlib.pyplot as plt\n",
        "import itertools\n",
        "from ipywidgets import interact, interactive, fixed, interact_manual\n",
        "import ipywidgets as widgets\n",
        "\n"
      ],
      "execution_count": 0,
      "outputs": []
    },
    {
      "cell_type": "code",
      "metadata": {
        "id": "ogf2na3QDqy0",
        "colab_type": "code",
        "outputId": "5078553f-a6bb-4e7a-bbad-0d33f4ba3a3a",
        "colab": {
          "base_uri": "https://localhost:8080/",
          "height": 656,
          "referenced_widgets": [
            "9c210f513a9542f1af8f4e6156ebc9b2",
            "7db5f1bc07e447c0adfa2ea4adefc38e",
            "7d013d47fb8748cea79c7f5a6504b93a",
            "329938d679ad492ca2cfd6bbe1282d3b",
            "18b41b46f22d449b9c4cdb34f7e9e58a",
            "91fffa63f4e249d68f72e145928cde5f",
            "798d13d7e8d441c4945d7c5afb962abe",
            "f7d96bc67a63441b94f207ebecfeb960",
            "6e562498fdcd4364a9a09cf78a0be56b"
          ]
        }
      },
      "source": [
        "\n",
        "\n",
        "def plotCircle(ax,x0,y0,r,c): \n",
        "  t=np.linspace(0,2*np.pi) \n",
        "  x=r*np.sin(t)+x0\n",
        "  y=r*np.cos(t)+y0 \n",
        "  ax.fill(x,y,color=c) \n",
        "def iniPicture(N): \n",
        "  nr=int(np.ceil(np.sqrt(N/0.5))+1) \n",
        "  rs=np.linspace(1,nr+1,nr)[:-1] \n",
        "  ts=np.linspace(0,2*np.pi,2*nr)[:-1]\n",
        "  pos=np.array(list(itertools.product(rs,ts)))\n",
        "  np.random.shuffle(pos)\n",
        "  S=np.zeros(N)\n",
        "  S[0]=1\n",
        "  pos=np.column_stack((pos[:,0]*np.sin(pos[:,1]),pos[:,0]*np.cos(pos[:,1])))\n",
        "  pos=pos[:N]+np.random.normal(0,0.1,(N,2))\n",
        "  PS=np.column_stack((pos,S))\n",
        "  \n",
        "  return PS\n",
        "\n",
        "def plotMoranDyn(Ps,freq,nstep):\n",
        "  fig, (ax1, ax2) = plt.subplots(1, 2,figsize=(10, 10))\n",
        "  R=np.random.randint(0,Ps.shape[0],(2,nstep))\n",
        "  rb=['r','b']\n",
        "  [plotCircle(ax1,x,y,0.3,rb[int(s)])for x,y,s in Ps]\n",
        "  ax2.plot(freq,'bo')\n",
        "  for i in range(nstep):\n",
        "    i,j=np.random.randint(0,Ps.shape[0],2) \n",
        "    Ps[j,2]=Ps[i,2]\n",
        "    freq.append(Ps[:,2].sum())\n",
        "    [plotCircle(ax1,x,y,0.3,rb[int(s)])for x,y,s in Ps]\n",
        "    if len(freq)<10:\n",
        "      ax2.plot(freq,'-ob')\n",
        "    else:\n",
        "      ax2.plot(freq,'-b')\n",
        "\n",
        "Ps=iniPicture(10)\n",
        "freq=[1]\n",
        "interact_manual(plotMoranDyn,Ps=fixed(Ps),freq=fixed(freq),nstep=widgets.IntSlider(value=1,min=1,max=100,step=1));\n",
        "    \n",
        "\n",
        "    \n",
        "\n",
        "\n",
        "\n",
        "\n"
      ],
      "execution_count": 0,
      "outputs": [
        {
          "output_type": "display_data",
          "data": {
            "application/vnd.jupyter.widget-view+json": {
              "model_id": "9c210f513a9542f1af8f4e6156ebc9b2",
              "version_minor": 0,
              "version_major": 2
            },
            "text/plain": [
              "interactive(children=(IntSlider(value=1, description='nstep', min=1), Button(description='Run Interact', style…"
            ]
          },
          "metadata": {
            "tags": []
          }
        }
      ]
    },
    {
      "cell_type": "markdown",
      "metadata": {
        "id": "tdVczYYAm7YW",
        "colab_type": "text"
      },
      "source": [
        "$P_{i,i-1}=\\frac{N-i}{N}\\frac{i}{N}$\n",
        "\n",
        "$P_{i,i+1}=\\frac{i}{N}\\frac{N-i}{N}$\n",
        "\n",
        "$P_{i,i}=1-P_{i,i-1}-P_{i,i+1}$\n",
        "\n",
        "$P=\\begin{bmatrix}\n",
        "1 & 0 & 0 &0&0&0&0&   \\\\\n",
        "P_{1,0} & P_{1,1} & P_{1,2} & 0&0 & 0&0&\\\\\n",
        "0 & P_{2,1} & P_{2,2} & P_{2,3} & 0&  0& 0&\\\\\n",
        " 0&0  & P_{3,2} & P_{3,3} & P_{3,4} & 0&0 & \\\\\n",
        " 0& 0 & 0 & \\ddots & \\ddots & \\ddots & 0& \\\\\n",
        " 0&  0&0  & 0 &P_{n-1,n-2} & P_{n-1,n-1} & P_{n-1,n} \\\\\n",
        " 0&  0&0  & 0 & 0& 0&1\n",
        "\\end{bmatrix}$\n"
      ]
    },
    {
      "cell_type": "code",
      "metadata": {
        "id": "LC4jXrvhtM-1",
        "colab_type": "code",
        "colab": {}
      },
      "source": [
        "def iniP(N): \n",
        "  P=np.zeros((N,N)) \n",
        "  i=np.arange(N) \n",
        "  p=(i[1:]*(N-i[1:]))/N**2 \n",
        "  P[i[1:-1],i[2:]]=p[:-1]\n",
        "  P[i[1:-1],i[:-2]]=p[:-1]\n",
        "  P[i,i]=1-P.sum(1) \n",
        "  return P"
      ],
      "execution_count": 0,
      "outputs": []
    },
    {
      "cell_type": "code",
      "metadata": {
        "id": "JaY1DKCPdMot",
        "colab_type": "code",
        "outputId": "6f049c73-7704-4160-c69c-80087112df4a",
        "colab": {
          "base_uri": "https://localhost:8080/",
          "height": 976
        }
      },
      "source": [
        "N=100\n",
        "P=iniP(N)\n",
        "p=np.zeros(N)\n",
        "p[50]=1\n",
        "fig=plt.figure(figsize=(15, 15), dpi= 80, facecolor='w', edgecolor='k')\n",
        "plt.imshow(P);\n"
      ],
      "execution_count": 0,
      "outputs": [
        {
          "output_type": "display_data",
          "data": {
            "image/png": "[encoded data removed]",
            "text/plain": [
              "<Figure size 1200x1200 with 1 Axes>"
            ]
          },
          "metadata": {
            "tags": []
          }
        }
      ]
    },
    {
      "cell_type": "code",
      "metadata": {
        "id": "3k6Tc3AUfiX_",
        "colab_type": "code",
        "outputId": "18617c19-3d5e-4508-8e48-5ba69d44e959",
        "colab": {
          "base_uri": "https://localhost:8080/",
          "height": 81,
          "referenced_widgets": [
            "e36584772673421cab6947ed2648125a",
            "11926e5aaf2748efbed34b2ce562bed6",
            "cbd31bdf66ec46779a9513c896b741f5",
            "f45094dc6b254551994a8ee2e7bd9c22",
            "ae23f3c53ea14b2e8619f048ecf3f0cc",
            "55755fd03c6d4c65b3487ee1cbb3ba25",
            "b62aa09b12a84128ae24a173c3965c98",
            "007bfe89bd664379a390331fd4339c44",
            "6cd0c46e398e4c21af7bc5c9523a8681"
          ]
        }
      },
      "source": [
        "def plotProbDens(P,p,nmax):\n",
        "  fig=plt.figure(figsize=(10, 10), dpi= 80, facecolor='w', edgecolor='k')\n",
        "  plt.plot(p)\n",
        "  for i in range(nmax):\n",
        "    p=np.dot(p,P)\n",
        "  plt.plot(p)\n",
        "  #plt.vlines(np.arange(p.size),np.zeros(p.size),p)\n",
        "    #print(p)\n",
        " # return p\n",
        "interact_manual(plotProbDens,P=fixed(P),p=fixed(p),nmax=widgets.IntText(value=1,min=1,max=10000,step=1));\n",
        "\n",
        "\n",
        "\n",
        "\n"
      ],
      "execution_count": 0,
      "outputs": [
        {
          "output_type": "display_data",
          "data": {
            "application/vnd.jupyter.widget-view+json": {
              "model_id": "e36584772673421cab6947ed2648125a",
              "version_minor": 0,
              "version_major": 2
            },
            "text/plain": [
              "interactive(children=(IntText(value=1, description='nmax'), Button(description='Run Interact', style=ButtonSty…"
            ]
          },
          "metadata": {
            "tags": []
          }
        }
      ]
    },
    {
      "cell_type": "code",
      "metadata": {
        "id": "ItWR1ZlTUj1-",
        "colab_type": "code",
        "outputId": "75213eec-6556-4763-8482-6224d6f47978",
        "colab": {
          "base_uri": "https://localhost:8080/",
          "height": 265
        }
      },
      "source": [
        "def plotProbDens2(P,p,nmax):\n",
        "  #plt.plot(p)\n",
        "  for i in range(nmax):\n",
        "    p=np.dot(p,P)\n",
        "  #if nmax>0:\n",
        "  plt.plot(p)\n",
        "N=100\n",
        "P=iniP(N)\n",
        "p=np.zeros(N)\n",
        "p[50]=1\n",
        "[plotProbDens2(P,p,k) for k in (0,10,80,100000)];"
      ],
      "execution_count": 0,
      "outputs": [
        {
          "output_type": "display_data",
          "data": {
            "image/png": "[encoded data removed]",
            "text/plain": [
              "<Figure size 432x288 with 1 Axes>"
            ]
          },
          "metadata": {
            "tags": []
          }
        }
      ]
    },
    {
      "cell_type": "code",
      "metadata": {
        "id": "OnaKRyIxU4Gu",
        "colab_type": "code",
        "colab": {}
      },
      "source": [
        "\n",
        "def MoranDyn(N,i,nstep):\n",
        "  Ps=np.zeros(N)\n",
        "  Ps[:i]=1\n",
        "  R=np.random.randint(0,Ps.shape[0],(2,nstep))\n",
        "  #freq=[Ps.sum()]\n",
        "  for i in range(nstep):\n",
        "    i,j=np.random.randint(0,Ps.shape[0],2) \n",
        "    Ps[j]=Ps[i]\n",
        "   # freq.append(Ps.sum())\n",
        "  return Ps.sum()"
      ],
      "execution_count": 0,
      "outputs": []
    },
    {
      "cell_type": "code",
      "metadata": {
        "id": "DZ72DjARVqw6",
        "colab_type": "code",
        "outputId": "27a40295-69ce-4dcf-e5d7-fa5d4e66942d",
        "colab": {
          "base_uri": "https://localhost:8080/",
          "height": 575
        }
      },
      "source": [
        "freq=[MoranDyn(50,20,100) for rep in range(5000)]\n",
        "plt.plot(freq)\n",
        "plt.xlabel('replica')\n",
        "plt.ylabel('i')\n",
        "print(np.mean(freq))\n",
        "plt.figure()\n",
        "plt.hist(freq,20)\n",
        "plt.xlabel('i')\n",
        "plt.ylabel('count')"
      ],
      "execution_count": 0,
      "outputs": [
        {
          "output_type": "stream",
          "text": [
            "19.9456\n"
          ],
          "name": "stdout"
        },
        {
          "output_type": "execute_result",
          "data": {
            "text/plain": [
              "Text(0, 0.5, 'count')"
            ]
          },
          "metadata": {
            "tags": []
          },
          "execution_count": 16
        },
        {
          "output_type": "display_data",
          "data": {
            "image/png": "[encoded data removed]",
            "text/plain": [
              "<Figure size 432x288 with 1 Axes>"
            ]
          },
          "metadata": {
            "tags": []
          }
        },
        {
          "output_type": "display_data",
          "data": {
            "image/png": "[encoded data removed]",
            "text/plain": [
              "<Figure size 432x288 with 1 Axes>"
            ]
          },
          "metadata": {
            "tags": []
          }
        }
      ]
    }
  ]
}
